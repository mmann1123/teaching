{
 "cells": [
  {
   "cell_type": "markdown",
   "metadata": {},
   "source": [
    "# Interpolation Examples"
   ]
  },
  {
   "cell_type": "code",
   "execution_count": 34,
   "metadata": {},
   "outputs": [],
   "source": [
    "%matplotlib inline\n",
    "import sympy as sympy\n",
    "import numpy as np\n",
    "import matplotlib.pyplot as plt\n",
    "import matplotlib\n",
    "from scipy import *\n",
    "import pandas as pd\n",
    "from scipy.spatial.distance import squareform, pdist\n",
    "import matplotlib.colors as mc\n",
    "from seaborn import boxplot, pointplot, lmplot, regplot\n",
    "matplotlib.rcParams['figure.figsize'] = [8, 8]\n",
    "\n",
    "import warnings\n",
    "warnings.simplefilter(action='ignore', category=FutureWarning)\n",
    "warnings.filterwarnings('ignore')"
   ]
  },
  {
   "cell_type": "markdown",
   "metadata": {},
   "source": [
    "In this first code block we generate some random data, and run a moving window smoother over it to create an interesting raster surface."
   ]
  },
  {
   "cell_type": "code",
   "execution_count": 35,
   "metadata": {},
   "outputs": [
    {
     "data": {
      "text/plain": [
       "<matplotlib.image.AxesImage at 0x7fb83d873128>"
      ]
     },
     "execution_count": 35,
     "metadata": {},
     "output_type": "execute_result"
    },
    {
     "data": {
      "image/png": "[encoded data removed]",
      "text/plain": [
       "<Figure size 576x576 with 1 Axes>"
      ]
     },
     "metadata": {
      "needs_background": "light"
     },
     "output_type": "display_data"
    }
   ],
   "source": [
    "def moving_window(arr,w=(3,3)):\n",
    "    # Runs a moving window attribute over a 2D array\n",
    "    arr2 = arr.copy()\n",
    "    for i in range(arr.shape[0]):\n",
    "        for j in range(arr.shape[1]):\n",
    "            arr2[i,j] = arr[np.clip(i-w[0],0,arr.shape[0]):i+w[1],np.clip(j-w[1],0,arr.shape[1]):j+w[1]].mean()\n",
    "    return arr2\n",
    "    \n",
    "def linear_transformation(arr,new_min=0,new_max=1):\n",
    "    # Does linear transformation to whatever limits you might prefer.\n",
    "    data = (arr-arr.min())*(new_max-new_min)**2/(arr.max()-arr.min())+new_min\n",
    "    return data\n",
    "\n",
    "samples = 100\n",
    "limit   = 0.5\n",
    "window  = (7,5)\n",
    "\n",
    "# Interpolation of random data\n",
    "np.random.seed(1) #1\n",
    "res = 15 \n",
    "arr = np.zeros((res,res))\n",
    "hdx = np.random.randint(0,res,samples)\n",
    "hdy = np.random.randint(0,res,samples)\n",
    "arr[hdx,hdy] = 1\n",
    "\n",
    "arr = moving_window(arr,w=(5,5))\n",
    "#arr = moving_window(arr,w=window)\n",
    "arr = linear_transformation(arr,0,1) \n",
    "\n",
    "y = [4, 9, 12, 8]\n",
    "x = [1, 10, 4, 8]\n",
    "\n",
    "values = arr[(array(x),array(y))].round(2)\n",
    "label = ['Z1=0.21', 'Z2=0.49', 'Z3=0.27', 'A']\n",
    "\n",
    "\n",
    "fig, ax = plt.subplots()\n",
    "ax.scatter(x, y)\n",
    "ax.set_title('Random surface with sample sites')\n",
    "\n",
    "for i, txt in enumerate(label):\n",
    "    ax.annotate(txt, (x[i]+0.05, y[i]-0.05))\n",
    "ax.imshow(arr.T, origin='lower',interpolation='nearest',cmap='Blues', norm=mc.Normalize(vmin=0, vmax=1))"
   ]
  },
  {
   "cell_type": "code",
   "execution_count": null,
   "metadata": {},
   "outputs": [],
   "source": []
  },
  {
   "cell_type": "markdown",
   "metadata": {},
   "source": [
    "### Calculating Semivariance  "
   ]
  },
  {
   "cell_type": "markdown",
   "metadata": {},
   "source": [
    "The right-hand side of this equation is straightforward, consisting of the sum of the squares of all the pairs of height control point values at a given distance, divided by their number $n(d)$. In other words, it is simply their mean. The left-hand side of the equation uses the standard notation in which $\\gamma$ is the conventional symbol for the semivariogram. "
   ]
  },
  {
   "cell_type": "markdown",
   "metadata": {},
   "source": [
    "(a)\n",
    "$$\\large{ \\hat{\\gamma}(d)= \\frac{1}{n(d)}  \\sum_{d_{ij}=d}(z_{i}-z_{j})^2}$$"
   ]
  },
  {
   "cell_type": "markdown",
   "metadata": {},
   "source": [
    "In particular, for a given distance, more likely than not, there will be no pair of observations for each possible distance between points. Therefore, as for the variogram cloud box plots, we make estimates for distance bins (or lags) rather than continuously at all distances. Thus, the above equation should really be rewritten as "
   ]
  },
  {
   "cell_type": "markdown",
   "metadata": {},
   "source": [
    "(b)\n",
    "$$ \\large{ \\hat{\\gamma}(d)= \\frac{1}{n(d+\\Delta/2)}  \\sum_{d\\pm  \\Delta / 2}(z_{i}-z_{j})^2}$$"
   ]
  },
  {
   "cell_type": "markdown",
   "metadata": {},
   "source": [
    "indicating that the estimate is made over pairs of observations whose separations lie in the range $d - \\Delta / 2$ to $d + \\Delta / 2$. It is also important to note that the form of the equations shown here depends only on the distance between observations, effectively assuming that the underlying phenomenon is isotropic (does not change with direction).\n",
    "\n",
    "Now we just need to calculate the components of the formula, and fit a model that reasonably describes it. "
   ]
  },
  {
   "cell_type": "code",
   "execution_count": null,
   "metadata": {},
   "outputs": [],
   "source": []
  },
  {
   "cell_type": "markdown",
   "metadata": {},
   "source": [
    "### Calculate pair-wise distance & squared differences "
   ]
  },
  {
   "cell_type": "markdown",
   "metadata": {},
   "source": [
    "In this section we want to create a *squared root differences* cloud. This is simply the $(z_{i}-z_{j})^2$ for any point $z_{i}$ and any other point $z_{j}$. \n",
    "\n",
    "Since there are 15x15 cells (see blue raster above), each point needs to be compared to the 224 other cells."
   ]
  },
  {
   "cell_type": "code",
   "execution_count": 36,
   "metadata": {},
   "outputs": [
    {
     "name": "stdout",
     "output_type": "stream",
     "text": [
      "Table A: Square difference between Zi and Zj\n"
     ]
    },
    {
     "data": {
      "text/html": [
       "<div>\n",
       "<style scoped>\n",
       "    .dataframe tbody tr th:only-of-type {\n",
       "        vertical-align: middle;\n",
       "    }\n",
       "\n",
       "    .dataframe tbody tr th {\n",
       "        vertical-align: top;\n",
       "    }\n",
       "\n",
       "    .dataframe thead th {\n",
       "        text-align: right;\n",
       "    }\n",
       "</style>\n",
       "<table border=\"1\" class=\"dataframe\">\n",
       "  <thead>\n",
       "    <tr style=\"text-align: right;\">\n",
       "      <th></th>\n",
       "      <th>0</th>\n",
       "      <th>1</th>\n",
       "      <th>2</th>\n",
       "      <th>3</th>\n",
       "      <th>4</th>\n",
       "      <th>5</th>\n",
       "      <th>6</th>\n",
       "      <th>7</th>\n",
       "      <th>8</th>\n",
       "      <th>9</th>\n",
       "      <th>...</th>\n",
       "      <th>215</th>\n",
       "      <th>216</th>\n",
       "      <th>217</th>\n",
       "      <th>218</th>\n",
       "      <th>219</th>\n",
       "      <th>220</th>\n",
       "      <th>221</th>\n",
       "      <th>222</th>\n",
       "      <th>223</th>\n",
       "      <th>224</th>\n",
       "    </tr>\n",
       "  </thead>\n",
       "  <tbody>\n",
       "    <tr>\n",
       "      <td>0</td>\n",
       "      <td>0.000000</td>\n",
       "      <td>0.079256</td>\n",
       "      <td>0.046008</td>\n",
       "      <td>0.079256</td>\n",
       "      <td>0.111328</td>\n",
       "      <td>0.079256</td>\n",
       "      <td>0.079256</td>\n",
       "      <td>0.317025</td>\n",
       "      <td>0.317025</td>\n",
       "      <td>0.079256</td>\n",
       "      <td>...</td>\n",
       "      <td>0.070695</td>\n",
       "      <td>0.070695</td>\n",
       "      <td>0.035225</td>\n",
       "      <td>0.070695</td>\n",
       "      <td>0.035225</td>\n",
       "      <td>0.011986</td>\n",
       "      <td>0.018374</td>\n",
       "      <td>0.004954</td>\n",
       "      <td>0.015656</td>\n",
       "      <td>0.015656</td>\n",
       "    </tr>\n",
       "    <tr>\n",
       "      <td>1</td>\n",
       "      <td>0.079256</td>\n",
       "      <td>0.000000</td>\n",
       "      <td>0.004493</td>\n",
       "      <td>0.000000</td>\n",
       "      <td>0.002718</td>\n",
       "      <td>0.000000</td>\n",
       "      <td>0.000000</td>\n",
       "      <td>0.079256</td>\n",
       "      <td>0.079256</td>\n",
       "      <td>0.000000</td>\n",
       "      <td>...</td>\n",
       "      <td>0.299657</td>\n",
       "      <td>0.299657</td>\n",
       "      <td>0.220156</td>\n",
       "      <td>0.299657</td>\n",
       "      <td>0.220156</td>\n",
       "      <td>0.152886</td>\n",
       "      <td>0.173951</td>\n",
       "      <td>0.123838</td>\n",
       "      <td>0.024462</td>\n",
       "      <td>0.024462</td>\n",
       "    </tr>\n",
       "    <tr>\n",
       "      <td>2</td>\n",
       "      <td>0.046008</td>\n",
       "      <td>0.004493</td>\n",
       "      <td>0.000000</td>\n",
       "      <td>0.004493</td>\n",
       "      <td>0.014200</td>\n",
       "      <td>0.004493</td>\n",
       "      <td>0.004493</td>\n",
       "      <td>0.121490</td>\n",
       "      <td>0.121490</td>\n",
       "      <td>0.004493</td>\n",
       "      <td>...</td>\n",
       "      <td>0.230765</td>\n",
       "      <td>0.230765</td>\n",
       "      <td>0.161748</td>\n",
       "      <td>0.230765</td>\n",
       "      <td>0.161748</td>\n",
       "      <td>0.104961</td>\n",
       "      <td>0.122531</td>\n",
       "      <td>0.081155</td>\n",
       "      <td>0.007988</td>\n",
       "      <td>0.007988</td>\n",
       "    </tr>\n",
       "    <tr>\n",
       "      <td>3</td>\n",
       "      <td>0.079256</td>\n",
       "      <td>0.000000</td>\n",
       "      <td>0.004493</td>\n",
       "      <td>0.000000</td>\n",
       "      <td>0.002718</td>\n",
       "      <td>0.000000</td>\n",
       "      <td>0.000000</td>\n",
       "      <td>0.079256</td>\n",
       "      <td>0.079256</td>\n",
       "      <td>0.000000</td>\n",
       "      <td>...</td>\n",
       "      <td>0.299657</td>\n",
       "      <td>0.299657</td>\n",
       "      <td>0.220156</td>\n",
       "      <td>0.299657</td>\n",
       "      <td>0.220156</td>\n",
       "      <td>0.152886</td>\n",
       "      <td>0.173951</td>\n",
       "      <td>0.123838</td>\n",
       "      <td>0.024462</td>\n",
       "      <td>0.024462</td>\n",
       "    </tr>\n",
       "    <tr>\n",
       "      <td>4</td>\n",
       "      <td>0.111328</td>\n",
       "      <td>0.002718</td>\n",
       "      <td>0.014200</td>\n",
       "      <td>0.002718</td>\n",
       "      <td>0.000000</td>\n",
       "      <td>0.002718</td>\n",
       "      <td>0.002718</td>\n",
       "      <td>0.052620</td>\n",
       "      <td>0.052620</td>\n",
       "      <td>0.002718</td>\n",
       "      <td>...</td>\n",
       "      <td>0.359453</td>\n",
       "      <td>0.359453</td>\n",
       "      <td>0.271798</td>\n",
       "      <td>0.359453</td>\n",
       "      <td>0.271798</td>\n",
       "      <td>0.196374</td>\n",
       "      <td>0.220156</td>\n",
       "      <td>0.163249</td>\n",
       "      <td>0.043488</td>\n",
       "      <td>0.043488</td>\n",
       "    </tr>\n",
       "  </tbody>\n",
       "</table>\n",
       "<p>5 rows × 225 columns</p>\n",
       "</div>"
      ],
      "text/plain": [
       "        0         1         2         3         4         5         6    \\\n",
       "0  0.000000  0.079256  0.046008  0.079256  0.111328  0.079256  0.079256   \n",
       "1  0.079256  0.000000  0.004493  0.000000  0.002718  0.000000  0.000000   \n",
       "2  0.046008  0.004493  0.000000  0.004493  0.014200  0.004493  0.004493   \n",
       "3  0.079256  0.000000  0.004493  0.000000  0.002718  0.000000  0.000000   \n",
       "4  0.111328  0.002718  0.014200  0.002718  0.000000  0.002718  0.002718   \n",
       "\n",
       "        7         8         9    ...       215       216       217       218  \\\n",
       "0  0.317025  0.317025  0.079256  ...  0.070695  0.070695  0.035225  0.070695   \n",
       "1  0.079256  0.079256  0.000000  ...  0.299657  0.299657  0.220156  0.299657   \n",
       "2  0.121490  0.121490  0.004493  ...  0.230765  0.230765  0.161748  0.230765   \n",
       "3  0.079256  0.079256  0.000000  ...  0.299657  0.299657  0.220156  0.299657   \n",
       "4  0.052620  0.052620  0.002718  ...  0.359453  0.359453  0.271798  0.359453   \n",
       "\n",
       "        219       220       221       222       223       224  \n",
       "0  0.035225  0.011986  0.018374  0.004954  0.015656  0.015656  \n",
       "1  0.220156  0.152886  0.173951  0.123838  0.024462  0.024462  \n",
       "2  0.161748  0.104961  0.122531  0.081155  0.007988  0.007988  \n",
       "3  0.220156  0.152886  0.173951  0.123838  0.024462  0.024462  \n",
       "4  0.271798  0.196374  0.220156  0.163249  0.043488  0.043488  \n",
       "\n",
       "[5 rows x 225 columns]"
      ]
     },
     "execution_count": 36,
     "metadata": {},
     "output_type": "execute_result"
    }
   ],
   "source": [
    "sqr_diff = []\n",
    "for val_i in np.nditer(arr):\n",
    "    for val_j in np.nditer(arr):\n",
    "        sqr_diff.append((val_i-val_j)**2)\n",
    "\n",
    "sqr_diff = pd.DataFrame(np.asarray(sqr_diff).reshape(225,225))\n",
    "print('Table A: Square difference between Zi and Zj')\n",
    "sqr_diff.head()\n",
    " "
   ]
  },
  {
   "cell_type": "markdown",
   "metadata": {},
   "source": [
    "We also keep track of the distance betwen $z_{i}$ and $z_{j}$ and store it as $d_{ij}$. "
   ]
  },
  {
   "cell_type": "code",
   "execution_count": 37,
   "metadata": {},
   "outputs": [
    {
     "name": "stdout",
     "output_type": "stream",
     "text": [
      "Table B: Distances between Zi and Zj\n"
     ]
    },
    {
     "data": {
      "text/html": [
       "<div>\n",
       "<style scoped>\n",
       "    .dataframe tbody tr th:only-of-type {\n",
       "        vertical-align: middle;\n",
       "    }\n",
       "\n",
       "    .dataframe tbody tr th {\n",
       "        vertical-align: top;\n",
       "    }\n",
       "\n",
       "    .dataframe thead th {\n",
       "        text-align: right;\n",
       "    }\n",
       "</style>\n",
       "<table border=\"1\" class=\"dataframe\">\n",
       "  <thead>\n",
       "    <tr style=\"text-align: right;\">\n",
       "      <th></th>\n",
       "      <th>0</th>\n",
       "      <th>1</th>\n",
       "      <th>2</th>\n",
       "      <th>3</th>\n",
       "      <th>4</th>\n",
       "      <th>5</th>\n",
       "      <th>6</th>\n",
       "      <th>7</th>\n",
       "      <th>8</th>\n",
       "      <th>9</th>\n",
       "      <th>...</th>\n",
       "      <th>215</th>\n",
       "      <th>216</th>\n",
       "      <th>217</th>\n",
       "      <th>218</th>\n",
       "      <th>219</th>\n",
       "      <th>220</th>\n",
       "      <th>221</th>\n",
       "      <th>222</th>\n",
       "      <th>223</th>\n",
       "      <th>224</th>\n",
       "    </tr>\n",
       "  </thead>\n",
       "  <tbody>\n",
       "    <tr>\n",
       "      <td>0</td>\n",
       "      <td>0.000000</td>\n",
       "      <td>1.038873</td>\n",
       "      <td>2.011469</td>\n",
       "      <td>3.013180</td>\n",
       "      <td>4.013892</td>\n",
       "      <td>5.007919</td>\n",
       "      <td>6.006601</td>\n",
       "      <td>7.022608</td>\n",
       "      <td>8.019790</td>\n",
       "      <td>9.004402</td>\n",
       "      <td>...</td>\n",
       "      <td>14.868446</td>\n",
       "      <td>15.233867</td>\n",
       "      <td>15.653601</td>\n",
       "      <td>16.126707</td>\n",
       "      <td>16.644375</td>\n",
       "      <td>17.204999</td>\n",
       "      <td>17.805010</td>\n",
       "      <td>18.439223</td>\n",
       "      <td>19.105383</td>\n",
       "      <td>19.799385</td>\n",
       "    </tr>\n",
       "    <tr>\n",
       "      <td>1</td>\n",
       "      <td>1.038873</td>\n",
       "      <td>0.000000</td>\n",
       "      <td>1.002244</td>\n",
       "      <td>2.000000</td>\n",
       "      <td>3.000453</td>\n",
       "      <td>4.000000</td>\n",
       "      <td>5.000000</td>\n",
       "      <td>6.006601</td>\n",
       "      <td>7.005659</td>\n",
       "      <td>8.000000</td>\n",
       "      <td>...</td>\n",
       "      <td>14.570506</td>\n",
       "      <td>14.876144</td>\n",
       "      <td>15.238771</td>\n",
       "      <td>15.662045</td>\n",
       "      <td>16.131341</td>\n",
       "      <td>16.647909</td>\n",
       "      <td>17.209705</td>\n",
       "      <td>17.807971</td>\n",
       "      <td>18.439752</td>\n",
       "      <td>19.105613</td>\n",
       "    </tr>\n",
       "    <tr>\n",
       "      <td>2</td>\n",
       "      <td>2.011469</td>\n",
       "      <td>1.002244</td>\n",
       "      <td>0.000000</td>\n",
       "      <td>1.002244</td>\n",
       "      <td>2.003547</td>\n",
       "      <td>3.000749</td>\n",
       "      <td>4.000562</td>\n",
       "      <td>5.012134</td>\n",
       "      <td>6.010116</td>\n",
       "      <td>7.000321</td>\n",
       "      <td>...</td>\n",
       "      <td>14.325877</td>\n",
       "      <td>14.568142</td>\n",
       "      <td>14.871508</td>\n",
       "      <td>15.239120</td>\n",
       "      <td>15.657642</td>\n",
       "      <td>16.127770</td>\n",
       "      <td>16.646998</td>\n",
       "      <td>17.207009</td>\n",
       "      <td>17.804718</td>\n",
       "      <td>18.439306</td>\n",
       "    </tr>\n",
       "    <tr>\n",
       "      <td>3</td>\n",
       "      <td>3.013180</td>\n",
       "      <td>2.000000</td>\n",
       "      <td>1.002244</td>\n",
       "      <td>0.000000</td>\n",
       "      <td>1.001358</td>\n",
       "      <td>2.000000</td>\n",
       "      <td>3.000000</td>\n",
       "      <td>4.009895</td>\n",
       "      <td>5.007919</td>\n",
       "      <td>6.000000</td>\n",
       "      <td>...</td>\n",
       "      <td>14.152726</td>\n",
       "      <td>14.328282</td>\n",
       "      <td>14.567778</td>\n",
       "      <td>14.876144</td>\n",
       "      <td>15.238771</td>\n",
       "      <td>15.657359</td>\n",
       "      <td>16.129909</td>\n",
       "      <td>16.647037</td>\n",
       "      <td>17.205361</td>\n",
       "      <td>17.805181</td>\n",
       "    </tr>\n",
       "    <tr>\n",
       "      <td>4</td>\n",
       "      <td>4.013892</td>\n",
       "      <td>3.000453</td>\n",
       "      <td>2.003547</td>\n",
       "      <td>1.001358</td>\n",
       "      <td>0.000000</td>\n",
       "      <td>1.001358</td>\n",
       "      <td>2.000679</td>\n",
       "      <td>3.008757</td>\n",
       "      <td>4.006572</td>\n",
       "      <td>5.000272</td>\n",
       "      <td>...</td>\n",
       "      <td>14.048468</td>\n",
       "      <td>14.154838</td>\n",
       "      <td>14.327310</td>\n",
       "      <td>14.572558</td>\n",
       "      <td>14.875207</td>\n",
       "      <td>15.237991</td>\n",
       "      <td>15.659507</td>\n",
       "      <td>16.129577</td>\n",
       "      <td>16.644623</td>\n",
       "      <td>17.205914</td>\n",
       "    </tr>\n",
       "  </tbody>\n",
       "</table>\n",
       "<p>5 rows × 225 columns</p>\n",
       "</div>"
      ],
      "text/plain": [
       "        0         1         2         3         4         5         6    \\\n",
       "0  0.000000  1.038873  2.011469  3.013180  4.013892  5.007919  6.006601   \n",
       "1  1.038873  0.000000  1.002244  2.000000  3.000453  4.000000  5.000000   \n",
       "2  2.011469  1.002244  0.000000  1.002244  2.003547  3.000749  4.000562   \n",
       "3  3.013180  2.000000  1.002244  0.000000  1.001358  2.000000  3.000000   \n",
       "4  4.013892  3.000453  2.003547  1.001358  0.000000  1.001358  2.000679   \n",
       "\n",
       "        7         8         9    ...        215        216        217  \\\n",
       "0  7.022608  8.019790  9.004402  ...  14.868446  15.233867  15.653601   \n",
       "1  6.006601  7.005659  8.000000  ...  14.570506  14.876144  15.238771   \n",
       "2  5.012134  6.010116  7.000321  ...  14.325877  14.568142  14.871508   \n",
       "3  4.009895  5.007919  6.000000  ...  14.152726  14.328282  14.567778   \n",
       "4  3.008757  4.006572  5.000272  ...  14.048468  14.154838  14.327310   \n",
       "\n",
       "         218        219        220        221        222        223        224  \n",
       "0  16.126707  16.644375  17.204999  17.805010  18.439223  19.105383  19.799385  \n",
       "1  15.662045  16.131341  16.647909  17.209705  17.807971  18.439752  19.105613  \n",
       "2  15.239120  15.657642  16.127770  16.646998  17.207009  17.804718  18.439306  \n",
       "3  14.876144  15.238771  15.657359  16.129909  16.647037  17.205361  17.805181  \n",
       "4  14.572558  14.875207  15.237991  15.659507  16.129577  16.644623  17.205914  \n",
       "\n",
       "[5 rows x 225 columns]"
      ]
     },
     "execution_count": 37,
     "metadata": {},
     "output_type": "execute_result"
    }
   ],
   "source": [
    "raw_data_stack = pd.DataFrame(arr).stack().rename_axis(['y', 'x']).reset_index(name='val')\n",
    "raw_dist = pd.DataFrame(squareform(pdist(raw_data_stack)))\n",
    "print('Table B: Distances between Zi and Zj')\n",
    "raw_dist.head()\n"
   ]
  },
  {
   "cell_type": "code",
   "execution_count": null,
   "metadata": {},
   "outputs": [],
   "source": [
    " "
   ]
  },
  {
   "cell_type": "markdown",
   "metadata": {},
   "source": [
    "### Combine data and plot square root differences cloud"
   ]
  },
  {
   "cell_type": "markdown",
   "metadata": {},
   "source": [
    "Now we can combine all the data and look at plotting. "
   ]
  },
  {
   "cell_type": "code",
   "execution_count": 38,
   "metadata": {},
   "outputs": [
    {
     "name": "stdout",
     "output_type": "stream",
     "text": [
      "Table C: Raster surface data by cell\n"
     ]
    },
    {
     "data": {
      "text/html": [
       "<div>\n",
       "<style scoped>\n",
       "    .dataframe tbody tr th:only-of-type {\n",
       "        vertical-align: middle;\n",
       "    }\n",
       "\n",
       "    .dataframe tbody tr th {\n",
       "        vertical-align: top;\n",
       "    }\n",
       "\n",
       "    .dataframe thead th {\n",
       "        text-align: right;\n",
       "    }\n",
       "</style>\n",
       "<table border=\"1\" class=\"dataframe\">\n",
       "  <thead>\n",
       "    <tr style=\"text-align: right;\">\n",
       "      <th></th>\n",
       "      <th>val</th>\n",
       "      <th>Dist</th>\n",
       "      <th>Sq_Diff</th>\n",
       "      <th>Dist_Bin</th>\n",
       "    </tr>\n",
       "  </thead>\n",
       "  <tbody>\n",
       "    <tr>\n",
       "      <td>0</td>\n",
       "      <td>0.563050</td>\n",
       "      <td>0.000000</td>\n",
       "      <td>0.000000</td>\n",
       "      <td>0</td>\n",
       "    </tr>\n",
       "    <tr>\n",
       "      <td>1</td>\n",
       "      <td>0.281525</td>\n",
       "      <td>1.038873</td>\n",
       "      <td>0.079256</td>\n",
       "      <td>2</td>\n",
       "    </tr>\n",
       "    <tr>\n",
       "      <td>2</td>\n",
       "      <td>0.348555</td>\n",
       "      <td>2.011469</td>\n",
       "      <td>0.046008</td>\n",
       "      <td>2</td>\n",
       "    </tr>\n",
       "    <tr>\n",
       "      <td>3</td>\n",
       "      <td>0.281525</td>\n",
       "      <td>3.013180</td>\n",
       "      <td>0.079256</td>\n",
       "      <td>4</td>\n",
       "    </tr>\n",
       "    <tr>\n",
       "      <td>4</td>\n",
       "      <td>0.229391</td>\n",
       "      <td>4.013892</td>\n",
       "      <td>0.111328</td>\n",
       "      <td>4</td>\n",
       "    </tr>\n",
       "  </tbody>\n",
       "</table>\n",
       "</div>"
      ],
      "text/plain": [
       "        val      Dist   Sq_Diff Dist_Bin\n",
       "0  0.563050  0.000000  0.000000        0\n",
       "1  0.281525  1.038873  0.079256        2\n",
       "2  0.348555  2.011469  0.046008        2\n",
       "3  0.281525  3.013180  0.079256        4\n",
       "4  0.229391  4.013892  0.111328        4"
      ]
     },
     "execution_count": 38,
     "metadata": {},
     "output_type": "execute_result"
    }
   ],
   "source": [
    "sqr_diff_stack = pd.DataFrame(sqr_diff).stack().rename_axis(['y', 'x']).reset_index(name='Sq_Diff')\n",
    "raw_dist_stack = pd.DataFrame(raw_dist).stack().rename_axis(['y', 'x']).reset_index(name='Dist')\n",
    "\n",
    "all_semi_data = pd.concat([raw_data_stack['val'],raw_dist_stack['Dist'],sqr_diff_stack['Sq_Diff']],axis=1)\n",
    "all_semi_data['Dist_Bin'] = pd.cut(all_semi_data['Dist'], bins=range(-1,res+4,2), labels=range(0,res+4,2)[:-1])\n",
    "print('Table C: Raster surface data by cell')\n",
    "all_semi_data.head()\n"
   ]
  },
  {
   "cell_type": "code",
   "execution_count": null,
   "metadata": {},
   "outputs": [],
   "source": []
  },
  {
   "cell_type": "code",
   "execution_count": 39,
   "metadata": {},
   "outputs": [
    {
     "data": {
      "text/plain": [
       "Text(0, 0.5, 'Square Difference')"
      ]
     },
     "execution_count": 39,
     "metadata": {},
     "output_type": "execute_result"
    },
    {
     "data": {
      "image/png": "[encoded data removed]",
      "text/plain": [
       "<Figure size 576x576 with 1 Axes>"
      ]
     },
     "metadata": {
      "needs_background": "light"
     },
     "output_type": "display_data"
    }
   ],
   "source": [
    "fig, ax = plt.subplots()\n",
    "ax.scatter(all_semi_data['Dist'], all_semi_data['Sq_Diff'], alpha=0.1)\n",
    "ax.set_title('Square Difference Cloud')\n",
    "ax.set_xlabel('Distance')\n",
    "ax.set_ylabel('Square Difference')\n"
   ]
  },
  {
   "cell_type": "markdown",
   "metadata": {},
   "source": [
    "Cloud plots can be useful exploratory tools, but they are often difficult to interpret, largely because there are so many points. A more condensed summary is provided by subdividing the distance axis into intervals, called lags, and constructing a summary of the points in each distance interval. For each lag, we calculate a measure of central tendency (mean or median) and summarize the variation around this mean using box plots, one for each lag."
   ]
  },
  {
   "cell_type": "code",
   "execution_count": 40,
   "metadata": {},
   "outputs": [
    {
     "data": {
      "text/plain": [
       "Text(0, 0.5, 'Square Difference')"
      ]
     },
     "execution_count": 40,
     "metadata": {},
     "output_type": "execute_result"
    },
    {
     "data": {
      "image/png": "[encoded data removed]",
      "text/plain": [
       "<Figure size 576x576 with 1 Axes>"
      ]
     },
     "metadata": {
      "needs_background": "light"
     },
     "output_type": "display_data"
    }
   ],
   "source": [
    "boxplot(x=\"Dist_Bin\", y=\"Sq_Diff\", data=all_semi_data, showfliers=False)\n",
    "plt.xlabel(\"Distance Lags\")\n",
    "plt.ylabel(\"Square Difference\")\n"
   ]
  },
  {
   "cell_type": "markdown",
   "metadata": {},
   "source": [
    "Looking above we can clearly see that the squared difference ($(z_{i}-z_{j})^2$) between points increases up to a distance of around 12 cells away, and then levels off. This maximum value could roughtly be considered the 'sill' and the range would be approximately '12' to '14' cells away.\n",
    "\n",
    "We can also just plot the mean values by distance lag, and then try to fit \"semi-variogram model\" to best fit the data. \n",
    "\n",
    "Here we will define the \"semi-variogram model\" as a simple linear regression. Although this exercise is a simplification of calculating sample semivariance and fitting a variogram model, it will help motivate the remainder of the lesson.  \n"
   ]
  },
  {
   "cell_type": "code",
   "execution_count": 41,
   "metadata": {},
   "outputs": [
    {
     "name": "stdout",
     "output_type": "stream",
     "text": [
      "                            OLS Regression Results                            \n",
      "==============================================================================\n",
      "Dep. Variable:                Sq_Diff   R-squared:                       0.742\n",
      "Model:                            OLS   Adj. R-squared:                  0.705\n",
      "Method:                 Least Squares   F-statistic:                     20.12\n",
      "Date:                Tue, 11 Feb 2020   Prob (F-statistic):            0.00285\n",
      "Time:                        19:22:01   Log-Likelihood:                 23.774\n",
      "No. Observations:                   9   AIC:                            -43.55\n",
      "Df Residuals:                       7   BIC:                            -43.15\n",
      "Df Model:                           1                                         \n",
      "Covariance Type:            nonrobust                                         \n",
      "==============================================================================\n",
      "                 coef    std err          t      P>|t|      [0.025      0.975]\n",
      "------------------------------------------------------------------------------\n",
      "const          0.0195      0.012      1.621      0.149      -0.009       0.048\n",
      "x1             0.0057      0.001      4.485      0.003       0.003       0.009\n",
      "==============================================================================\n",
      "Omnibus:                        3.999   Durbin-Watson:                   0.889\n",
      "Prob(Omnibus):                  0.135   Jarque-Bera (JB):                1.706\n",
      "Skew:                          -1.066   Prob(JB):                        0.426\n",
      "Kurtosis:                       2.944   Cond. No.                         17.7\n",
      "==============================================================================\n",
      "\n",
      "Warnings:\n",
      "[1] Standard Errors assume that the covariance matrix of the errors is correctly specified.\n"
     ]
    },
    {
     "data": {
      "image/png": "[encoded data removed]",
      "text/plain": [
       "<Figure size 360x360 with 1 Axes>"
      ]
     },
     "metadata": {
      "needs_background": "light"
     },
     "output_type": "display_data"
    }
   ],
   "source": [
    "all_semi_data_mean = all_semi_data.groupby('Dist_Bin').agg({'Sq_Diff':np.mean}).reset_index()\n",
    " \n",
    "# Show the results of a linear regression within each dataset\n",
    "lmplot(x=\"Dist_Bin\", y=\"Sq_Diff\", data=all_semi_data_mean,order=1, ci=False, )  \n",
    "plt.title('Potential Linear Variogram Model')\n",
    "plt.ylim(0,.35) \n",
    "\n",
    "import statsmodels.api as sm\n",
    "model = sm.OLS(all_semi_data_mean['Sq_Diff'], sm.add_constant(all_semi_data_mean['Dist_Bin'].values))\n",
    "results = model.fit()\n",
    "print(results.summary())"
   ]
  },
  {
   "cell_type": "code",
   "execution_count": null,
   "metadata": {},
   "outputs": [],
   "source": []
  },
  {
   "cell_type": "markdown",
   "metadata": {},
   "source": [
    "\n",
    "We can use a linear model the describe how the squared differences change across different distance bands. Clearly other more complicated models could better describe the relationship. It is however useful because an estimate of semi-variance $\\gamma$ can be calculated as a simple linear function as follows:\n",
    "\n",
    "$$ \\hat{\\gamma} = 0.020 + 0.006 \\times{Distance}$$\n",
    "\n",
    "So for any distance we can easily estimate gamma $\\gamma$ at any distance, for instance at a distance of 8\n",
    "\n",
    "$$ \\hat{\\gamma} = 0.020 + 0.006 \\times{8}$$\n",
    "\n",
    "This is simply saying, that the average squared difference between two points 8 pixels apart is 0.068 units"
   ]
  },
  {
   "cell_type": "code",
   "execution_count": null,
   "metadata": {},
   "outputs": [],
   "source": [
    "\n"
   ]
  },
  {
   "cell_type": "markdown",
   "metadata": {},
   "source": [
    "### Variance vs Semi-Variance\n",
    "\n",
    "#### Variance\n",
    "$$\\large{  \\sigma^{2}   = \\frac{\\sum_{n=1}^{N}(x_{i}-\\bar{x})^2 }{N}    }$$\n",
    "\n",
    "#### Semi-Variance\n",
    "$$\\large{ \\hat{\\gamma}(d)= \\frac{1}{n(d)}  \\sum_{d_{ij}=d}(z_{i}-z_{j})^2}$$"
   ]
  },
  {
   "cell_type": "code",
   "execution_count": null,
   "metadata": {},
   "outputs": [],
   "source": []
  },
  {
   "cell_type": "markdown",
   "metadata": {},
   "source": [
    "# Kriging by hand\n"
   ]
  },
  {
   "cell_type": "markdown",
   "metadata": {},
   "source": [
    "# Primer\n",
    "The following intro will walk you through the use of 'constrained' optimization for kriging. However the principals used here underly not only kriging, but regression analysis, and to a certain degree machine learning more generally.\n",
    "\n",
    "\n",
    "Before we start lets [learn about and practice matrix multiplication](https://www.khanacademy.org/math/precalculus/precalc-matrices/multiplying-matrices-by-matrices/v/multiplying-a-matrix-by-a-matrix)\n",
    "\n",
    "Let's learn about [contrained optimization](https://www.khanacademy.org/math/multivariable-calculus/applications-of-multivariable-derivatives/lagrange-multipliers-and-constrained-optimization/v/constrained-optimization-introduction) by watching the first video.\n",
    "\n",
    "Optimization generally is the idea that we need to find values for x and y that maximize (or minimize some function). \n",
    "\n",
    "**In the case of kriging we will be solving for a set of weights that minimizes the error between estimated values across sites and the actual values (minimizing the residuals)**"
   ]
  },
  {
   "cell_type": "markdown",
   "metadata": {},
   "source": [
    "--------------------------------"
   ]
  },
  {
   "cell_type": "markdown",
   "metadata": {},
   "source": [
    "## Solving for the optimal weights\n",
    "In this exercise we are going to try to use simple kriging to estimate the value of a single unknown point A using data obtained at three known sites 1, 2 & 3.\n",
    "\n",
    "Below we can see the points:"
   ]
  },
  {
   "cell_type": "code",
   "execution_count": 42,
   "metadata": {},
   "outputs": [
    {
     "data": {
      "image/png": "[encoded data removed]",
      "text/plain": [
       "<Figure size 576x576 with 1 Axes>"
      ]
     },
     "metadata": {
      "needs_background": "light"
     },
     "output_type": "display_data"
    }
   ],
   "source": [
    "def plot_points():\n",
    "\n",
    "    y = [4, 9, 12, 8]\n",
    "    x = [1, 10, 4, 8]\n",
    "\n",
    "    values = arr[(array(x),array(y))].round(2)\n",
    "    label = ['Z1=0.21', 'Z2=0.49', 'Z3=0.27', 'A']\n",
    "\n",
    "    \n",
    "    fig, ax = plt.subplots()\n",
    "    ax.scatter(x, y)\n",
    "    ax.set_title('Know points (1:3), Unknown (A,B)')\n",
    "    plt.ylim([0,14])\n",
    "    plt.xlim([0,14])\n",
    "\n",
    "    for i, txt in enumerate(label):\n",
    "        ax.annotate(txt, (x[i]+0.05, y[i]-0.05))\n",
    "plot_points()"
   ]
  },
  {
   "cell_type": "markdown",
   "metadata": {},
   "source": [
    "We wish to estimate a value for every unsampled location using a weighted sum of the z values from surrounding control points, that is,"
   ]
  },
  {
   "cell_type": "markdown",
   "metadata": {},
   "source": [
    "(1) $$ \\large{ \\hat{z}_{s}= w_{1}z_{1}  + \\ldots + w_{n}z_{n} =\n",
    "\\sum_{i=1}^n w_{i}z_{i} }$$ \n"
   ]
  },
  {
   "cell_type": "markdown",
   "metadata": {},
   "source": [
    "where $w_{1} \\ldots w_{n}$ is a set of weights applied to sampled values in order to arrive at the estimated value.  The weight as determined by some function of the distance between any known point and the unknown point.\n",
    "\n",
    "**The challenge then is to find a way to solve for weights that minimize estimation error based on known locations and the distance between them. This therefore is a constrained optimization problem, where we are minimizing error subject to the constraint that  sum(w)=1.** "
   ]
  },
  {
   "cell_type": "code",
   "execution_count": null,
   "metadata": {},
   "outputs": [],
   "source": []
  },
  {
   "cell_type": "markdown",
   "metadata": {},
   "source": [
    "It can be shown that the semivariance ($\\gamma$, i.e. gamma) calculated using the distance between all pairs of points can be used to set up a system of equations that minimize estimated error for a known location. \n",
    "\n",
    "The equations can be used to solve for the optimal $w_{n}$ based on the distance between any two known points (where $d_{12}$ can represent the distance between points 1 and 2).  \n",
    "\n",
    "$\\gamma(d_{12})$ then is the calculated semivariance between the two known points 1 and 2.  $\\gamma(d_{1p})$ is the semivariance calculated for the distance between a known point (1) and an unknown point (p) that we want to make a prediction for. \n",
    "\n",
    "Ignore the Lagrange multiplier $\\lambda$ (used to compare tangency of two non-linear functions e.g. gradients)\n",
    "\n"
   ]
  },
  {
   "cell_type": "markdown",
   "metadata": {},
   "source": [
    "(2)\n",
    "$$w_{1}\\gamma(d_{11})+w_{2}\\gamma(d_{12})+ \\ldots +w_{n}\\gamma(d_{1n})+ \\lambda = \\gamma(d_{1p}) \\\\\n",
    "\\vdots \\hspace{2cm}  \\vdots \\hspace{2cm}  \\vdots \\hspace{2cm} = \\hspace{1cm}\\vdots \\\\\n",
    "w_{1}\\gamma(d_{n1})+w_{2}\\gamma(d_{n2})+ \\ldots +w_{n}\\gamma(d_{nn})+ \\lambda = \\gamma(d_{np}) \\\\\n",
    "w_{1} \\hspace{0.5cm}+\\hspace{0.5cm} w_{2}\\hspace{0.5cm} +\\ldots + w_{n} + \\hspace{0.25cm} 0  \\hspace{1cm} = \\hspace{1cm}1 $$"
   ]
  },
  {
   "cell_type": "markdown",
   "metadata": {},
   "source": [
    "The last line $w_{1} +\\ldots+ w_{m}+0= 1$ is a constraint that ensures that all weights sum to 1.  We also need to use something called the Lagrangian multiplier ($\\gamma$), which is outside the scope of this exerise.\n"
   ]
  },
  {
   "cell_type": "markdown",
   "metadata": {},
   "source": [
    "Looking at this same set of equations (from eq2 above) in matrix format as follows:"
   ]
  },
  {
   "cell_type": "markdown",
   "metadata": {},
   "source": [
    "$$ \\Large{A} \\cdot  \\Large{w}   \\Large{=}    \\Large{b}  $$\n",
    "or we can look at the matrix contents as follows:\n",
    "\n"
   ]
  },
  {
   "cell_type": "markdown",
   "metadata": {},
   "source": [
    "(3)\n",
    "$$\\begin{bmatrix} \n",
    "\\gamma(d_{11}) & \\gamma(d_{12}) & \\ldots & \\gamma(d_{1n}) & 1 \\\\ \n",
    "\\vdots & \\vdots & \\vdots & \\vdots & \\vdots \\\\\n",
    "\\gamma(d_{n1}) & \\gamma(d_{n2}) & \\ldots & \\gamma(d_{nn}) & 1\\\\\n",
    "1 & 1 & \\ldots & 1 & 0\n",
    "\\end{bmatrix}_{n \\times n}\n",
    "\\cdot\n",
    "\\begin{bmatrix} w_{1} \\\\ \\vdots \\\\ w_{n} \\\\ \\lambda \\end{bmatrix}_{n \\times 1}\n",
    "= \n",
    "\\begin{bmatrix} \\gamma(d_{1p}) \\\\ \\vdots \\\\ \\gamma(d_{np}) \\\\ 1 \\end{bmatrix}$$\n"
   ]
  },
  {
   "cell_type": "markdown",
   "metadata": {},
   "source": [
    "Keep in mind what we learned about matrix multiplication above. \n",
    "\n",
    "Note that $\\large{A}$ is the semivariance $\\gamma$ based on the distance bewtween all known points, $\\large{w}$ are the weights we are trying to solve for, and $\\large{b}$ is filled with $\\gamma(d_{np})$, the semivariance of distances between a known point (n) and an unknown point (p). "
   ]
  },
  {
   "cell_type": "code",
   "execution_count": null,
   "metadata": {},
   "outputs": [],
   "source": []
  },
  {
   "cell_type": "markdown",
   "metadata": {},
   "source": [
    "We can then solve for the w by multiplying both sides by its inverse $\\large{A}^{-1}$, the equivalent of matrix division. "
   ]
  },
  {
   "cell_type": "markdown",
   "metadata": {},
   "source": [
    "(4)\n",
    "$$  \\Large{w}   \\Large{=}    \\Large{b} \\cdot \\Large{A}^{-1} $$"
   ]
  },
  {
   "cell_type": "markdown",
   "metadata": {},
   "source": [
    "This gives us the weights we need to minimize error while meeting the contraint of $w_{1} +\\ldots + w_{n}  = 1$"
   ]
  },
  {
   "cell_type": "markdown",
   "metadata": {
    "collapsed": true
   },
   "source": [
    "----------------------------------\n"
   ]
  },
  {
   "cell_type": "markdown",
   "metadata": {},
   "source": [
    "## Solve for a single unknown location"
   ]
  },
  {
   "cell_type": "markdown",
   "metadata": {},
   "source": [
    "Now we will solve for the first unknown point (A) based on distance and semi-variance from all other unknown locations. \n",
    "\n",
    "Look again at the points:"
   ]
  },
  {
   "cell_type": "code",
   "execution_count": 43,
   "metadata": {},
   "outputs": [
    {
     "data": {
      "image/png": "[encoded data removed]",
      "text/plain": [
       "<Figure size 576x576 with 1 Axes>"
      ]
     },
     "metadata": {
      "needs_background": "light"
     },
     "output_type": "display_data"
    }
   ],
   "source": [
    "plot_points()"
   ]
  },
  {
   "cell_type": "markdown",
   "metadata": {},
   "source": [
    "We can also put this in the format of a table of data with location and values:"
   ]
  },
  {
   "cell_type": "code",
   "execution_count": 44,
   "metadata": {},
   "outputs": [
    {
     "name": "stdout",
     "output_type": "stream",
     "text": [
      "Table A: Observations and points for predictions\n",
      "    x   y  value\n",
      "1   1   4   0.21\n",
      "2  10   9   0.49\n",
      "3   4  12   0.27\n",
      "A   8   8    NaN\n"
     ]
    }
   ],
   "source": [
    "data = {'x':[1, 10, 4, 8],\n",
    "        'y':[4, 9, 12, 8],\n",
    "        'value':[0.21,0.49,0.27,NaN]}\n",
    "\n",
    "df = pd.DataFrame(data,index=[1,2,3,'A'])\n",
    "print('Table A: Observations and points for predictions')\n",
    "print(df)"
   ]
  },
  {
   "cell_type": "markdown",
   "metadata": {},
   "source": [
    "### Objective: Solve for weights matrix  $ \\hspace{2cm} \\normalsize{w}   \\normalsize{=}    \\normalsize{b} \\cdot \\normalsize{A}^{-1} $\n",
    "#### Part 1: Solve for matrix $A$"
   ]
  },
  {
   "cell_type": "markdown",
   "metadata": {},
   "source": [
    "Matrix $\\large{A}$ requires the distances ($d_{nn}$) between all points with known observations values and the semivariance ($\\gamma$) associated with that distance.  Let's calculate the pair-wise distances between each point.\n",
    "\n",
    "To start we are going to only look at the points with known values."
   ]
  },
  {
   "cell_type": "code",
   "execution_count": 45,
   "metadata": {},
   "outputs": [
    {
     "name": "stdout",
     "output_type": "stream",
     "text": [
      "Table B: Locations with known values\n",
      "    x   y\n",
      "1   1   4\n",
      "2  10   9\n",
      "3   4  12\n"
     ]
    }
   ],
   "source": [
    "print('Table B: Locations with known values')\n",
    "print(df.loc[[1,2,3],['x','y']])"
   ]
  },
  {
   "cell_type": "code",
   "execution_count": 46,
   "metadata": {},
   "outputs": [
    {
     "name": "stdout",
     "output_type": "stream",
     "text": [
      "Table C: Pairwise distances for points with observations\n"
     ]
    },
    {
     "data": {
      "text/html": [
       "<div>\n",
       "<style scoped>\n",
       "    .dataframe tbody tr th:only-of-type {\n",
       "        vertical-align: middle;\n",
       "    }\n",
       "\n",
       "    .dataframe tbody tr th {\n",
       "        vertical-align: top;\n",
       "    }\n",
       "\n",
       "    .dataframe thead th {\n",
       "        text-align: right;\n",
       "    }\n",
       "</style>\n",
       "<table border=\"1\" class=\"dataframe\">\n",
       "  <thead>\n",
       "    <tr style=\"text-align: right;\">\n",
       "      <th></th>\n",
       "      <th>1</th>\n",
       "      <th>2</th>\n",
       "      <th>3</th>\n",
       "    </tr>\n",
       "  </thead>\n",
       "  <tbody>\n",
       "    <tr>\n",
       "      <td>1</td>\n",
       "      <td>0.000000</td>\n",
       "      <td>10.295630</td>\n",
       "      <td>8.544004</td>\n",
       "    </tr>\n",
       "    <tr>\n",
       "      <td>2</td>\n",
       "      <td>10.295630</td>\n",
       "      <td>0.000000</td>\n",
       "      <td>6.708204</td>\n",
       "    </tr>\n",
       "    <tr>\n",
       "      <td>3</td>\n",
       "      <td>8.544004</td>\n",
       "      <td>6.708204</td>\n",
       "      <td>0.000000</td>\n",
       "    </tr>\n",
       "  </tbody>\n",
       "</table>\n",
       "</div>"
      ],
      "text/plain": [
       "           1          2         3\n",
       "1   0.000000  10.295630  8.544004\n",
       "2  10.295630   0.000000  6.708204\n",
       "3   8.544004   6.708204  0.000000"
      ]
     },
     "execution_count": 46,
     "metadata": {},
     "output_type": "execute_result"
    }
   ],
   "source": [
    "print('Table C: Pairwise distances for points with observations')\n",
    "dist = pd.DataFrame(squareform(pdist(df.loc[[1,2,3],['x','y']])),index=[1,2,3],columns=[1,2,3])\n",
    "dist"
   ]
  },
  {
   "cell_type": "markdown",
   "metadata": {},
   "source": [
    "\n",
    "To simplify things we will assume the estimated equation for semivariance between and two points can be estiamted as (similar to that estimated in the first exercise):\n",
    "\n",
    "$$ \\hat{\\gamma} = 0.020 + 0.006 \\times{Distance}$$\n",
    "\n",
    "Now to create $\\large{A}$ we need to calculate the semivariance $\\gamma$ for the distance $d_{1,2}$ between point 1 and 2.\n",
    "\n",
    "\n",
    "$$ \\gamma(d_{1,2} = 10.29) = 0.02 + 0.006(10.29) = 0.081 $$\n",
    "\n",
    "We can then make the calculations for all distances in Table C."
   ]
  },
  {
   "cell_type": "code",
   "execution_count": 47,
   "metadata": {},
   "outputs": [
    {
     "name": "stdout",
     "output_type": "stream",
     "text": [
      "Table D: Semivariance of distances between points 1, 2, 3\n"
     ]
    },
    {
     "data": {
      "text/html": [
       "<div>\n",
       "<style scoped>\n",
       "    .dataframe tbody tr th:only-of-type {\n",
       "        vertical-align: middle;\n",
       "    }\n",
       "\n",
       "    .dataframe tbody tr th {\n",
       "        vertical-align: top;\n",
       "    }\n",
       "\n",
       "    .dataframe thead th {\n",
       "        text-align: right;\n",
       "    }\n",
       "</style>\n",
       "<table border=\"1\" class=\"dataframe\">\n",
       "  <thead>\n",
       "    <tr style=\"text-align: right;\">\n",
       "      <th></th>\n",
       "      <th>1</th>\n",
       "      <th>2</th>\n",
       "      <th>3</th>\n",
       "    </tr>\n",
       "  </thead>\n",
       "  <tbody>\n",
       "    <tr>\n",
       "      <td>1</td>\n",
       "      <td>0.020000</td>\n",
       "      <td>0.081774</td>\n",
       "      <td>0.071264</td>\n",
       "    </tr>\n",
       "    <tr>\n",
       "      <td>2</td>\n",
       "      <td>0.081774</td>\n",
       "      <td>0.020000</td>\n",
       "      <td>0.060249</td>\n",
       "    </tr>\n",
       "    <tr>\n",
       "      <td>3</td>\n",
       "      <td>0.071264</td>\n",
       "      <td>0.060249</td>\n",
       "      <td>0.020000</td>\n",
       "    </tr>\n",
       "  </tbody>\n",
       "</table>\n",
       "</div>"
      ],
      "text/plain": [
       "          1         2         3\n",
       "1  0.020000  0.081774  0.071264\n",
       "2  0.081774  0.020000  0.060249\n",
       "3  0.071264  0.060249  0.020000"
      ]
     },
     "execution_count": 47,
     "metadata": {},
     "output_type": "execute_result"
    }
   ],
   "source": [
    "def semivar(d):\n",
    "    sv = 0.02 + 0.006*d\n",
    "    return sv\n",
    "\n",
    "A = dist.apply(semivar)\n",
    "print('Table D: Semivariance of distances between points 1, 2, 3')\n",
    "A"
   ]
  },
  {
   "cell_type": "markdown",
   "metadata": {},
   "source": [
    "We now have all the $\\gamma d_{nn}$ values for $\\large{A}$ but need to put in the constraint, $w_{1}+ \\ldots +w_{n} = 1$. This is done by adding a column of ones and a row of ones to our matrix of $\\gamma d_{nn}$ values, each ending in zero. \n"
   ]
  },
  {
   "cell_type": "markdown",
   "metadata": {},
   "source": [
    "(5)\n",
    "$$\\begin{bmatrix} \n",
    "0.02 & 0.27  & 0.23 & 1 \\\\ \n",
    "0.27 & 0.02 & 0.18 & 1\\\\\n",
    "0.23 & 0.18  & 0.02 & 1\\\\\n",
    "1 & 1  & 1 & 0\n",
    "\\end{bmatrix}_{4 \\times 4}\n",
    "\\cdot\n",
    "\\begin{bmatrix} w_{1} \\\\ \\vdots \\\\ w_{n} \\\\ \\lambda \\end{bmatrix}_{4 \\times 1}\n",
    "= \n",
    "\\begin{bmatrix} \\gamma(d_{1p}) \\\\ \\vdots \\\\ \\gamma(d_{np}) \\\\ 1 \\end{bmatrix}$$\n"
   ]
  },
  {
   "cell_type": "markdown",
   "metadata": {},
   "source": [
    "Remember matrix multiplication. The row of ones are multiplied by the weights matrix $w$ and summed, and the 0 at the end of the row is multiplied by $\\lambda$. The column of ones is multiplied each time by the lagrange multiplier ($\\lambda$)."
   ]
  },
  {
   "cell_type": "code",
   "execution_count": 48,
   "metadata": {},
   "outputs": [
    {
     "name": "stdout",
     "output_type": "stream",
     "text": [
      "          1         2         3  L\n",
      "0  0.020000  0.081774  0.071264  1\n",
      "1  0.081774  0.020000  0.060249  1\n",
      "2  0.071264  0.060249  0.020000  1\n",
      "3  1.000000  1.000000  1.000000  0\n"
     ]
    }
   ],
   "source": [
    "col1s = pd.DataFrame({'L':[1,1,1]},index=[1,2,3])\n",
    "A = pd.concat([A,col1s],axis=1)\n",
    "row1s = pd.Series([1,1,1,0],index=[1,2,3,'L'],name='L')\n",
    "A = A.append(row1s,ignore_index=True)\n",
    "A.columns=[1,2,3,'L']\n",
    "print(A)\n"
   ]
  },
  {
   "cell_type": "code",
   "execution_count": null,
   "metadata": {},
   "outputs": [],
   "source": []
  },
  {
   "cell_type": "markdown",
   "metadata": {},
   "source": [
    "#### Part 2: Solve for matrix $A^{-1}$"
   ]
  },
  {
   "cell_type": "markdown",
   "metadata": {},
   "source": [
    "Now we can solve for $\\large{w}$ using the following:\n",
    "\n",
    "$  \\large{w}  \\large{=} \\large{b} \\cdot \\large{A}^{-1} $\n",
    "\n",
    "The inverse of $\\large{A}$, $\\large{(A^{-1})}$ can be calculated as follows:"
   ]
  },
  {
   "cell_type": "code",
   "execution_count": 49,
   "metadata": {},
   "outputs": [
    {
     "data": {
      "text/html": [
       "<div>\n",
       "<style scoped>\n",
       "    .dataframe tbody tr th:only-of-type {\n",
       "        vertical-align: middle;\n",
       "    }\n",
       "\n",
       "    .dataframe tbody tr th {\n",
       "        vertical-align: top;\n",
       "    }\n",
       "\n",
       "    .dataframe thead th {\n",
       "        text-align: right;\n",
       "    }\n",
       "</style>\n",
       "<table border=\"1\" class=\"dataframe\">\n",
       "  <thead>\n",
       "    <tr style=\"text-align: right;\">\n",
       "      <th></th>\n",
       "      <th>1</th>\n",
       "      <th>2</th>\n",
       "      <th>3</th>\n",
       "      <th>L</th>\n",
       "    </tr>\n",
       "  </thead>\n",
       "  <tbody>\n",
       "    <tr>\n",
       "      <td>1</td>\n",
       "      <td>-10.924060</td>\n",
       "      <td>4.035801</td>\n",
       "      <td>6.888259</td>\n",
       "      <td>0.397573</td>\n",
       "    </tr>\n",
       "    <tr>\n",
       "      <td>2</td>\n",
       "      <td>4.035801</td>\n",
       "      <td>-13.913592</td>\n",
       "      <td>9.877791</td>\n",
       "      <td>0.353120</td>\n",
       "    </tr>\n",
       "    <tr>\n",
       "      <td>3</td>\n",
       "      <td>6.888259</td>\n",
       "      <td>9.877791</td>\n",
       "      <td>-16.766051</td>\n",
       "      <td>0.249307</td>\n",
       "    </tr>\n",
       "    <tr>\n",
       "      <td>L</td>\n",
       "      <td>0.397573</td>\n",
       "      <td>0.353120</td>\n",
       "      <td>0.249307</td>\n",
       "      <td>-0.054594</td>\n",
       "    </tr>\n",
       "  </tbody>\n",
       "</table>\n",
       "</div>"
      ],
      "text/plain": [
       "           1          2          3         L\n",
       "1 -10.924060   4.035801   6.888259  0.397573\n",
       "2   4.035801 -13.913592   9.877791  0.353120\n",
       "3   6.888259   9.877791 -16.766051  0.249307\n",
       "L   0.397573   0.353120   0.249307 -0.054594"
      ]
     },
     "execution_count": 49,
     "metadata": {},
     "output_type": "execute_result"
    }
   ],
   "source": [
    "A_inv = pd.DataFrame(np.linalg.pinv(A), columns=A.columns, index=[1,2,3,'L'])\n",
    "A_inv"
   ]
  },
  {
   "cell_type": "code",
   "execution_count": null,
   "metadata": {},
   "outputs": [],
   "source": []
  },
  {
   "cell_type": "markdown",
   "metadata": {},
   "source": [
    "#### Part 3: Solve for vector b"
   ]
  },
  {
   "cell_type": "markdown",
   "metadata": {},
   "source": [
    "Now we can create the vector $\\large{b}$ using the semivariance of distances between each of the three known points and the single unknown point we are trying to solve for (point a)."
   ]
  },
  {
   "cell_type": "code",
   "execution_count": 50,
   "metadata": {},
   "outputs": [
    {
     "name": "stdout",
     "output_type": "stream",
     "text": [
      "Table E: Distances from known points to unknown point a\n"
     ]
    },
    {
     "data": {
      "text/html": [
       "<div>\n",
       "<style scoped>\n",
       "    .dataframe tbody tr th:only-of-type {\n",
       "        vertical-align: middle;\n",
       "    }\n",
       "\n",
       "    .dataframe tbody tr th {\n",
       "        vertical-align: top;\n",
       "    }\n",
       "\n",
       "    .dataframe thead th {\n",
       "        text-align: right;\n",
       "    }\n",
       "</style>\n",
       "<table border=\"1\" class=\"dataframe\">\n",
       "  <thead>\n",
       "    <tr style=\"text-align: right;\">\n",
       "      <th></th>\n",
       "      <th>B</th>\n",
       "    </tr>\n",
       "  </thead>\n",
       "  <tbody>\n",
       "    <tr>\n",
       "      <td>1</td>\n",
       "      <td>8.062258</td>\n",
       "    </tr>\n",
       "    <tr>\n",
       "      <td>2</td>\n",
       "      <td>2.236068</td>\n",
       "    </tr>\n",
       "    <tr>\n",
       "      <td>3</td>\n",
       "      <td>5.656854</td>\n",
       "    </tr>\n",
       "  </tbody>\n",
       "</table>\n",
       "</div>"
      ],
      "text/plain": [
       "          B\n",
       "1  8.062258\n",
       "2  2.236068\n",
       "3  5.656854"
      ]
     },
     "execution_count": 50,
     "metadata": {},
     "output_type": "execute_result"
    }
   ],
   "source": [
    "print('Table E: Distances from known points to unknown point a')\n",
    "data = pd.DataFrame(squareform(pdist(df[['x','y']])),index= [1,2,3,'B'],columns= [1,2,3,'B']).iloc[0:3,3]\n",
    "Adist = pd.DataFrame( {'B':data})\n",
    "Adist\n"
   ]
  },
  {
   "cell_type": "markdown",
   "metadata": {},
   "source": [
    "With the same model for the semivariogram ($ \\hat{\\gamma} = 0.020 + 0.006 \\times{Distance}$) and augmented by the extra\n",
    "row holding a 1, this gives us values for the matrix **B**:"
   ]
  },
  {
   "cell_type": "code",
   "execution_count": 51,
   "metadata": {},
   "outputs": [
    {
     "name": "stdout",
     "output_type": "stream",
     "text": [
      "Table F: Vector b - Semivariances from known points to point a\n"
     ]
    },
    {
     "data": {
      "text/html": [
       "<div>\n",
       "<style scoped>\n",
       "    .dataframe tbody tr th:only-of-type {\n",
       "        vertical-align: middle;\n",
       "    }\n",
       "\n",
       "    .dataframe tbody tr th {\n",
       "        vertical-align: top;\n",
       "    }\n",
       "\n",
       "    .dataframe thead th {\n",
       "        text-align: right;\n",
       "    }\n",
       "</style>\n",
       "<table border=\"1\" class=\"dataframe\">\n",
       "  <thead>\n",
       "    <tr style=\"text-align: right;\">\n",
       "      <th></th>\n",
       "      <th>B</th>\n",
       "    </tr>\n",
       "  </thead>\n",
       "  <tbody>\n",
       "    <tr>\n",
       "      <td>1</td>\n",
       "      <td>0.068374</td>\n",
       "    </tr>\n",
       "    <tr>\n",
       "      <td>2</td>\n",
       "      <td>0.033416</td>\n",
       "    </tr>\n",
       "    <tr>\n",
       "      <td>3</td>\n",
       "      <td>0.053941</td>\n",
       "    </tr>\n",
       "    <tr>\n",
       "      <td>L</td>\n",
       "      <td>1.000000</td>\n",
       "    </tr>\n",
       "  </tbody>\n",
       "</table>\n",
       "</div>"
      ],
      "text/plain": [
       "          B\n",
       "1  0.068374\n",
       "2  0.033416\n",
       "3  0.053941\n",
       "L  1.000000"
      ]
     },
     "execution_count": 51,
     "metadata": {},
     "output_type": "execute_result"
    }
   ],
   "source": [
    "b = Adist.apply(semivar).append(pd.DataFrame({'B':[1]}))\n",
    "b.index= [1,2,3,'L']\n",
    "print('Table F: Vector b - Semivariances from known points to point a')\n",
    "b\n"
   ]
  },
  {
   "cell_type": "code",
   "execution_count": null,
   "metadata": {},
   "outputs": [],
   "source": []
  },
  {
   "cell_type": "markdown",
   "metadata": {},
   "source": [
    "#### Part 4: Solve for w"
   ]
  },
  {
   "cell_type": "markdown",
   "metadata": {},
   "source": [
    "Now we just multiply $\\large{b \\cdot \\large{A^{-1}}}$ (using matrix multiplication)"
   ]
  },
  {
   "cell_type": "code",
   "execution_count": 52,
   "metadata": {},
   "outputs": [
    {
     "data": {
      "text/html": [
       "<div>\n",
       "<style scoped>\n",
       "    .dataframe tbody tr th:only-of-type {\n",
       "        vertical-align: middle;\n",
       "    }\n",
       "\n",
       "    .dataframe tbody tr th {\n",
       "        vertical-align: top;\n",
       "    }\n",
       "\n",
       "    .dataframe thead th {\n",
       "        text-align: right;\n",
       "    }\n",
       "</style>\n",
       "<table border=\"1\" class=\"dataframe\">\n",
       "  <thead>\n",
       "    <tr style=\"text-align: right;\">\n",
       "      <th></th>\n",
       "      <th>w</th>\n",
       "    </tr>\n",
       "  </thead>\n",
       "  <tbody>\n",
       "    <tr>\n",
       "      <td>1</td>\n",
       "      <td>0.157079</td>\n",
       "    </tr>\n",
       "    <tr>\n",
       "      <td>2</td>\n",
       "      <td>0.696939</td>\n",
       "    </tr>\n",
       "    <tr>\n",
       "      <td>3</td>\n",
       "      <td>0.145982</td>\n",
       "    </tr>\n",
       "    <tr>\n",
       "      <td>L</td>\n",
       "      <td>-0.002163</td>\n",
       "    </tr>\n",
       "  </tbody>\n",
       "</table>\n",
       "</div>"
      ],
      "text/plain": [
       "          w\n",
       "1  0.157079\n",
       "2  0.696939\n",
       "3  0.145982\n",
       "L -0.002163"
      ]
     },
     "execution_count": 52,
     "metadata": {},
     "output_type": "execute_result"
    }
   ],
   "source": [
    "w = pd.DataFrame(np.dot(A_inv, b),index = [1,2,3,'L'],columns=['w'])\n",
    "w"
   ]
  },
  {
   "cell_type": "markdown",
   "metadata": {},
   "source": [
    "Note that the weights all sum to 1. \n",
    "\n",
    "*We now have the weights to solve for our point a*"
   ]
  },
  {
   "cell_type": "markdown",
   "metadata": {
    "collapsed": true
   },
   "source": []
  },
  {
   "cell_type": "markdown",
   "metadata": {},
   "source": [
    "### Solve for the estimated value of point a (our unknown location)"
   ]
  },
  {
   "cell_type": "markdown",
   "metadata": {},
   "source": [
    "The value for the unknown \"point A\" can be solved for by doing a sum of the weights and the known values from points Z1, Z2 and Z3. "
   ]
  },
  {
   "cell_type": "markdown",
   "metadata": {},
   "source": [
    "(6)\n",
    "$$\\hat{a} = \\sum_{n=1}^{n} w_{i} z_{i} = 0.157(0.21) + 0.696(0.49) + 0.145(0.27) = 0.413$$"
   ]
  },
  {
   "cell_type": "code",
   "execution_count": 69,
   "metadata": {},
   "outputs": [
    {
     "data": {
      "text/plain": [
       "<matplotlib.image.AxesImage at 0x7fb83c1d77f0>"
      ]
     },
     "execution_count": 69,
     "metadata": {},
     "output_type": "execute_result"
    },
    {
     "data": {
      "image/png": "[encoded data removed]",
      "text/plain": [
       "<Figure size 576x576 with 1 Axes>"
      ]
     },
     "metadata": {
      "needs_background": "light"
     },
     "output_type": "display_data"
    }
   ],
   "source": [
    "fig, ax = plt.subplots()\n",
    "ax.scatter(x, y)\n",
    "ax.set_title('Random surface with sample sites')\n",
    "\n",
    "for i, txt in enumerate(label):\n",
    "    ax.annotate(txt, (x[i]+0.05, y[i]-0.05))\n",
    "ax.imshow(arr.T, origin='lower',interpolation='nearest',cmap='Blues', norm=mc.Normalize(vmin=0, vmax=1))\n"
   ]
  },
  {
   "cell_type": "code",
   "execution_count": null,
   "metadata": {},
   "outputs": [],
   "source": []
  },
  {
   "cell_type": "code",
   "execution_count": null,
   "metadata": {
    "collapsed": true
   },
   "outputs": [],
   "source": []
  },
  {
   "cell_type": "markdown",
   "metadata": {},
   "source": []
  },
  {
   "cell_type": "code",
   "execution_count": null,
   "metadata": {
    "collapsed": true
   },
   "outputs": [],
   "source": []
  },
  {
   "cell_type": "code",
   "execution_count": null,
   "metadata": {
    "collapsed": true
   },
   "outputs": [],
   "source": []
  },
  {
   "cell_type": "code",
   "execution_count": null,
   "metadata": {
    "collapsed": true
   },
   "outputs": [],
   "source": []
  },
  {
   "cell_type": "code",
   "execution_count": null,
   "metadata": {
    "collapsed": true
   },
   "outputs": [],
   "source": []
  },
  {
   "cell_type": "markdown",
   "metadata": {
    "collapsed": true
   },
   "source": [
    "# OTHER RUBISH"
   ]
  },
  {
   "cell_type": "markdown",
   "metadata": {},
   "source": [
    "\n",
    "We can more simply do calculations with 'linear algerbra'. Linear algebra is the branch of mathematics concerning linear equations such as. linear functions such as. and their representations through matrices and vector spaces. Linear algebra is central to almost all areas of mathematics.\n",
    "\n",
    "The summation $\\sum_{i=1}^n w_{i}z_{i}$ can also be thought of in terms of linear algerbra using 'matrix multiplication'. "
   ]
  },
  {
   "cell_type": "markdown",
   "metadata": {},
   "source": [
    "$$\\sum_{i=1}^n w_{i}z_{i} = \\mathbf{w}^{T}\\mathbf{z}$$ "
   ]
  },
  {
   "cell_type": "markdown",
   "metadata": {},
   "source": [
    "We start by transposing $\\mathbf{w}$, transposing simply rotates the matrix on the diagonal. \n",
    "\n",
    "So \n",
    "\n",
    "$$ \\mathbf{w} = \\begin{bmatrix}\n",
    "  w_{11} & w_{12} \\\\\n",
    "  w_{21} & w_{22}   \n",
    "\\end{bmatrix}_{2 \\times 2}$$\n",
    "\n",
    "Transposes to: \n",
    "\n",
    "$$ \\mathbf{w}^{T} = \\begin{bmatrix}\n",
    "  w_{11} & w_{21} \\\\\n",
    "  w_{12} & w_{22}   \n",
    "\\end{bmatrix}_{2 \\times 2}$$"
   ]
  },
  {
   "cell_type": "markdown",
   "metadata": {},
   "source": [
    "\n"
   ]
  },
  {
   "cell_type": "markdown",
   "metadata": {},
   "source": [
    "$$\\mathbf{w}^{T}\\mathbf{z} = \n",
    "\\begin{bmatrix}\n",
    "  w_{11} & w_{21} \\\\\n",
    "  w_{12} & w_{22}   \n",
    "\\end{bmatrix}_{2 \\times 2}\n",
    "\\times$$ "
   ]
  },
  {
   "cell_type": "code",
   "execution_count": 22,
   "metadata": {},
   "outputs": [
    {
     "data": {
      "image/png": "[encoded data removed]",
      "text/plain": [
       "<matplotlib.figure.Figure at 0xe51f198>"
      ]
     },
     "metadata": {},
     "output_type": "display_data"
    }
   ],
   "source": [
    "def SVh( P, h, bw ):\n",
    "    '''\n",
    "    Experimental semivariogram for a single lag\n",
    "    '''\n",
    "    pd = squareform( pdist( P[:,:2] ) )\n",
    "    N = pd.shape[0]\n",
    "    Z = list()\n",
    "    for i in range(N):\n",
    "        for j in range(i+1,N):\n",
    "            if( pd[i,j] >= h-bw )and( pd[i,j] <= h+bw ):\n",
    "                Z.append( ( P[i,2] - P[j,2] )**2.0 )\n",
    "    return np.sum( Z ) / ( 2.0 * len( Z ) )\n",
    " \n",
    "def SV( P, hs, bw ):\n",
    "    '''\n",
    "    Experimental variogram for a collection of lags\n",
    "    '''\n",
    "    sv = list()\n",
    "    for h in hs:\n",
    "        sv.append( SVh( P, h, bw ) )\n",
    "    sv = [ [ hs[i], sv[i] ] for i in range( len( hs ) ) if sv[i] > 0 ]\n",
    "    return np.array( sv ).T\n",
    " \n",
    "    \n",
    "# part of our data set recording porosity\n",
    "P = np.array( raw_data_stack[['x','y','val']] )\n",
    "# bandwidth, plus or minus 250 meters\n",
    "bw = 2\n",
    "# lags in 500 meter increments from zero to 10,000\n",
    "hs = np.arange(0,15,bw)\n",
    "sv = SV( P, hs, bw )\n",
    "\n",
    "plt.plot(sv[0], sv[1], '.-'  )\n",
    "plt.title('Sample Semivariogram')\n",
    "plt.show()\n",
    " "
   ]
  }
 ],
 "metadata": {
  "kernelspec": {
   "display_name": "Python 3",
   "language": "python",
   "name": "python3"
  },
  "language_info": {
   "codemirror_mode": {
    "name": "ipython",
    "version": 3
   },
   "file_extension": ".py",
   "mimetype": "text/x-python",
   "name": "python",
   "nbconvert_exporter": "python",
   "pygments_lexer": "ipython3",
   "version": "3.7.3"
  }
 },
 "nbformat": 4,
 "nbformat_minor": 2
}
